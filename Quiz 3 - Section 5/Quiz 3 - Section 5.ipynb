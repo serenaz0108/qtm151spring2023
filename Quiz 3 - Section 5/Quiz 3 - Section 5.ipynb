{
 "cells": [
  {
   "attachments": {},
   "cell_type": "markdown",
   "metadata": {},
   "source": [
    "# <span style=\"color:darkblue\"> QTM 151 - Quiz 3 </span>"
   ]
  },
  {
   "attachments": {},
   "cell_type": "markdown",
   "metadata": {},
   "source": [
    "## Try to submit as an HTML file"
   ]
  },
  {
   "attachments": {},
   "cell_type": "markdown",
   "metadata": {},
   "source": [
    "<font size=\"5\"> \n",
    "\n",
    "Print your name below"
   ]
  },
  {
   "cell_type": "code",
   "execution_count": 1,
   "metadata": {},
   "outputs": [],
   "source": [
    "# Write your answer here\n",
    "\n",
    "print(\"Serena Zhou\")\n"
   ]
  },
  {
   "attachments": {},
   "cell_type": "markdown",
   "metadata": {},
   "source": [
    "<font size = \"5\" >\n",
    "This quiz is open book \n",
    "\n",
    "- You can use the lecture notes\n",
    "- You will get partial credit for attempting the questions\n",
    "- To get full credit, the code should run as intended\n",
    "- You should <span style=\"color:red\"> NOT </span> communicate with other students\n",
    "\n",
    "Print the following message: <br>\n",
    "\n",
    "\"I will abide by Emory's code of conduct\"\n"
   ]
  },
  {
   "cell_type": "code",
   "execution_count": 1,
   "metadata": {},
   "outputs": [
    {
     "name": "stdout",
     "output_type": "stream",
     "text": [
      "I will abide by Emory's code of conduct\n"
     ]
    }
   ],
   "source": [
    "# Write your answer here:\n",
    "\n",
    "\n",
    "print(\"I will abide by Emory's code of conduct\")"
   ]
  },
  {
   "attachments": {},
   "cell_type": "markdown",
   "metadata": {},
   "source": [
    "<font size = \"5\">\n",
    "\n",
    "Import the libraries \"numpy\" and \"pandas\""
   ]
  },
  {
   "cell_type": "code",
   "execution_count": 2,
   "metadata": {},
   "outputs": [],
   "source": [
    "# Write your answer here\n",
    "\n",
    "import numpy as np\n",
    "import pandas as pd\n"
   ]
  },
  {
   "attachments": {},
   "cell_type": "markdown",
   "metadata": {},
   "source": [
    "\n",
    "<font size = \"5\">\n",
    "\n",
    "(a) Replace the values of a column\n",
    "\n",
    "<font size = \"3\">\n",
    "\n",
    "- Import the \"data_raw/sprint_results.csv\" file\n",
    "- Replace the values \"R\" and \"N\" with ```np.nan``` (missing value) <br>\n",
    "in the column \"positionText\"\n",
    "- Create a new column \"positionNumeric\" that converts <br>\n",
    "the modified \"positionText\" column from string to numeric <br>\n",
    "using ```pd.to_numeric()```\n",
    "\n",
    "HINT: See the example in Lecture 13"
   ]
  },
  {
   "cell_type": "code",
   "execution_count": 7,
   "metadata": {},
   "outputs": [],
   "source": [
    "# Write your own code\n",
    "\n",
    "sprint_results = pd.read_csv(\"data_raw/sprint_results.csv\")\n",
    "\n",
    "list_old = [\"R\",\"N\"]\n",
    "list_new = [np.nan, np.nan]\n",
    "\n",
    "sprint_results[\"positionText\"] = sprint_results[\"positionText\"].replace(list_old, list_new)\n",
    "\n",
    "sprint_results[\"positionNumeric\"] = pd.to_numeric(sprint_results[\"positionText\"])\n",
    "\n",
    "\n",
    "\n",
    "\n",
    "\n"
   ]
  },
  {
   "attachments": {},
   "cell_type": "markdown",
   "metadata": {},
   "source": [
    "<font size = \"5\">\n",
    "\n",
    "(b) Recode a numeric colum\n",
    "\n",
    "<font size = \"3\">\n",
    "\n",
    "- Import the \"data_raw/races.csv\" file\n",
    "- Recode the \"year\" column into a new column \"year_brackets\" <br>\n",
    "with the following categories\n",
    "\n",
    "$\\qquad$ ``` [\"1950-1974\",\"1975-1999\",\"2000-onwards\"] ```\n",
    "\n",
    "$\\qquad$ HINT: Use the \"pd.cut()\" command."
   ]
  },
  {
   "cell_type": "code",
   "execution_count": 10,
   "metadata": {},
   "outputs": [],
   "source": [
    "# Write your own code\n",
    "\n",
    "races = pd.read_csv(\"data_raw/races.csv\")\n",
    "\n",
    "bins_x = [1949,1974, 1999, 2050]\n",
    "labels_x = [\"1950 - 1974\", \"1975 - 1999\", \"2000 - onwards\"]\n",
    "\n",
    "races[\"year_brackets\"] = pd.cut(races[\"year\"],\n",
    "                              bins = bins_x,\n",
    "                              right = True,\n",
    "                              labels = labels_x)\n"
   ]
  },
  {
   "attachments": {},
   "cell_type": "markdown",
   "metadata": {},
   "source": [
    "<font size = \"5\">\n",
    "\n",
    "(c) Aggregate and query\n",
    "\n",
    "<font size = \"3\">\n",
    "\n",
    "- Import the \"data_raw/sprint_results.csv\" file\n",
    "- Subset the observations for 'constructorId == 3' using ```.query()```\n",
    "- Obtain the sum of \"laps\" by \"driverId\" <br> \n",
    " using ``` .groupby().agg() ```\n",
    "- Subset the drivers with a sum of laps $\\ge 40$\n",
    "- Store the results of all these operations in a dataframe <br>\n",
    "```sprint_results_agg ```"
   ]
  },
  {
   "cell_type": "code",
   "execution_count": 14,
   "metadata": {},
   "outputs": [],
   "source": [
    "# Write your own code\n",
    "\n",
    "\n",
    "sprint_results_agg = (sprint_results.query(\"constructorId == 3\")\n",
    "                       .groupby(\"driverId\")\n",
    "                        .agg(sum_laps = ('laps', 'sum'))\n",
    "                        .query(\"sum_laps >= 40\"))\n",
    "\n",
    "\n"
   ]
  },
  {
   "attachments": {},
   "cell_type": "markdown",
   "metadata": {},
   "source": [
    "<font size = \"5\">\n",
    "\n",
    "(d) Aggregate and sort\n",
    "\n",
    "<font size = \"3\">\n",
    "\n",
    "- Import the \"data_raw/sprint_results.csv\" file\n",
    "- Obtain the sum of \"laps\" by \"driverId\" <br> \n",
    "using ``` .groupby().agg() ```\n",
    "- Sort the teams in descending order using of <br>\n",
    "the sum of laps using ``` .sort_values() ```"
   ]
  },
  {
   "cell_type": "code",
   "execution_count": 15,
   "metadata": {},
   "outputs": [],
   "source": [
    "# Write your own code\n",
    "\n",
    "sprint_results_agg = (sprint_results.query(\"constructorId == 3\")\n",
    "                       .groupby(\"driverId\")\n",
    "                        .agg(sum_laps = ('laps', 'sum'))\n",
    "                        .sort_values(\"sum_laps\",ascending = False))"
   ]
  },
  {
   "attachments": {},
   "cell_type": "markdown",
   "metadata": {},
   "source": [
    "<font size = \"5\">\n",
    "\n",
    "(e) Rename column\n",
    "\n",
    "<font size = \"3\">\n",
    "\n",
    "- Import the \"data_raw/sprint_results.csv\" file\n",
    "- Rename the column \"points\" to \"points_sprint\"\n",
    "\n",
    "HINT: Create a dictionary and use ```.rename(columns = ...)``` <br>\n",
    "See Lecture 15"
   ]
  },
  {
   "cell_type": "code",
   "execution_count": 21,
   "metadata": {},
   "outputs": [],
   "source": [
    "# Write your own code\n",
    "\n",
    "dict_rename_sprint_results = {\"points\": \"points_sprint\"}\n",
    "sprint_results = sprint_results.rename(columns = dict_rename_sprint_results)\n"
   ]
  },
  {
   "attachments": {},
   "cell_type": "markdown",
   "metadata": {},
   "source": [
    "<font size = \"5\">\n",
    "\n",
    "(f) Merge dataset\n",
    "\n",
    "<font size = \"3\">\n",
    "\n",
    "- Import the \"data_raw/sprint_results.csv\" and <br>\n",
    "\"data_raw/constructors.csv\" files\n",
    "- Create a new dataset with  ```pd.merge()``` using <br>\n",
    "\"sprint_results\" as the primary dataset, and <br>\n",
    "\"constructors\" as the secondary dataset, merging on <br>\n",
    "the column \"constructorId\"\n",
    "- To get full points **ONLY** merge the \"url\" column <br>\n",
    "from the secondary dataset (not all the columns)\n",
    "\n",
    "HINT: Use ```[[...]]``` to extract a subset of columns <br>\n",
    "from the secondary dataset before merging, including the <br>\n",
    "\"constructorId\" column"
   ]
  },
  {
   "cell_type": "code",
   "execution_count": 20,
   "metadata": {},
   "outputs": [],
   "source": [
    "# Write your own code\n",
    "\n",
    "constructors = pd.read_csv(\"data_raw/constructors.csv\")\n",
    "\n",
    "merge = pd.merge(sprint_results,\n",
    "                       constructors,\n",
    "                       on = \"constructorId\",\n",
    "                       how = \"left\")\n",
    "\n",
    "merge_final = pd.merge(sprint_results,\n",
    "                       constructors[[\"url\", \"constructorId\"]],\n",
    "                       on = \"constructorId\",\n",
    "                       how = \"left\")"
   ]
  }
 ],
 "metadata": {
  "kernelspec": {
   "display_name": "base",
   "language": "python",
   "name": "python3"
  },
  "language_info": {
   "codemirror_mode": {
    "name": "ipython",
    "version": 3
   },
   "file_extension": ".py",
   "mimetype": "text/x-python",
   "name": "python",
   "nbconvert_exporter": "python",
   "pygments_lexer": "ipython3",
   "version": "3.9.13"
  },
  "orig_nbformat": 4,
  "vscode": {
   "interpreter": {
    "hash": "2a17bf52f5fe47edb78f356bdf195a0b9a3069cdca3b82a27da8f418098f6707"
   }
  }
 },
 "nbformat": 4,
 "nbformat_minor": 2
}
