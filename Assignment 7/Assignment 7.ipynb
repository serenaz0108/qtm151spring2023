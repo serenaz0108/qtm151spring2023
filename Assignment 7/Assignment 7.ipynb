{
 "cells": [
  {
   "attachments": {},
   "cell_type": "markdown",
   "metadata": {},
   "source": [
    "# Assignment 7"
   ]
  },
  {
   "attachments": {},
   "cell_type": "markdown",
   "metadata": {},
   "source": [
    "## Try to submit as an HTML file"
   ]
  },
  {
   "attachments": {},
   "cell_type": "markdown",
   "metadata": {},
   "source": [
    "<font size = \"5\">\n",
    "Print your name below"
   ]
  },
  {
   "cell_type": "code",
   "execution_count": 1,
   "metadata": {},
   "outputs": [
    {
     "name": "stdout",
     "output_type": "stream",
     "text": [
      "Serena Zhou\n"
     ]
    }
   ],
   "source": [
    "print(\"Serena Zhou\")"
   ]
  },
  {
   "attachments": {},
   "cell_type": "markdown",
   "metadata": {},
   "source": [
    "<font size = \"5\">\n",
    "\n",
    "Import the \"pandas\" and \"numpy\" library"
   ]
  },
  {
   "cell_type": "code",
   "execution_count": 2,
   "metadata": {},
   "outputs": [],
   "source": [
    "# Write your answer here:\n",
    "\n",
    "import numpy as np\n",
    "import pandas as pd\n"
   ]
  },
  {
   "attachments": {},
   "cell_type": "markdown",
   "metadata": {},
   "source": [
    "<font size = \"5\">\n",
    "\n",
    "(a) Replace values from intervals\n",
    "\n",
    "<font size = \"3\">\n",
    "\n",
    "- Import the dataset \"data_raw/students.csv\" to a new object \"students\"\n",
    "- Use \"pd.cut()\" to assign the column \"numericgrade\" to a letter grade <br>\n",
    "using the following table\n",
    "\n",
    "<img src=\"figures/grading_scale.png\" alt=\"drawing\" width=\"600\"/>\n",
    "\n",
    "HINT: See Lecture 13"
   ]
  },
  {
   "attachments": {},
   "cell_type": "markdown",
   "metadata": {},
   "source": [
    "<font size = \"5\">\n",
    "\n",
    "For questions (b)-(e) use \"results.csv\", <br>\n",
    "a dataset on competitive car racing\n",
    "\n",
    "Import the dataset \"data/raw_results.csv\" to <br>\n",
    " a new object \"results\""
   ]
  },
  {
   "cell_type": "code",
   "execution_count": 3,
   "metadata": {},
   "outputs": [
    {
     "name": "stdout",
     "output_type": "stream",
     "text": [
      "    studentid  numericgrade letter grade\n",
      "0           1            61           C-\n",
      "1           2             0            F\n",
      "2           3            14            F\n",
      "3           4            57            D\n",
      "4           5            72           C+\n",
      "5           6            93            A\n",
      "6           7            40            F\n",
      "7           8            11            F\n",
      "8           9             3            F\n",
      "9          10            63           C-\n",
      "10         11             7            F\n",
      "11         12            46            F\n",
      "12         13            75           B-\n",
      "13         14            95            A\n",
      "14         15            22            F\n",
      "15         16            40            F\n",
      "16         17            53            F\n",
      "17         18            57            D\n",
      "18         19            82            B\n",
      "19         20            50            F\n",
      "20         21             8            F\n",
      "21         22            87           A-\n",
      "22         23            82            B\n",
      "23         24            30            F\n",
      "24         25            62           C-\n"
     ]
    }
   ],
   "source": [
    "# Write your own code\n",
    "\n",
    "students= pd.read_csv(\"data_raw/students.csv\")\n",
    "\n",
    "numeric = [0, 55, 60, 65, 70, 75, 80, 83, 87, 93, 100 ]\n",
    "letter = [\"F\", \"D\", \"C-\", \"C\", \"C+\", \"B-\", \"B\", \"B+\", \"A-\", \"A\"]\n",
    "\n",
    "students[\"letter grade\"] = pd.cut(students[\"numericgrade\"],\n",
    "                                bins = numeric,\n",
    "                                right = False,\n",
    "                                labels = letter)\n",
    "print(students)"
   ]
  },
  {
   "attachments": {},
   "cell_type": "markdown",
   "metadata": {},
   "source": [
    "<font size = \"5\">\n",
    "\n",
    "(b) Check column types\n",
    "\n",
    "<font size = \"3\">\n",
    "\n",
    "- View the dataset\n",
    "- Use the function \"results.dtypes\" to get the column types\n",
    "- Search for the \"results\" table in \"codebook/f1_codebook.pdf\".\n",
    "- Does the type of the \"milliseconds\" column agree with the codebook? <br>\n",
    "i.e. is it an integer, float, or string/object?\n",
    "\n",
    "\n",
    "HINT: See Lectures 13 and 14 for how to interpret the codebook\n"
   ]
  },
  {
   "cell_type": "code",
   "execution_count": 11,
   "metadata": {},
   "outputs": [
    {
     "data": {
      "text/plain": [
       "resultId             int64\n",
       "raceId               int64\n",
       "driverId             int64\n",
       "constructorId        int64\n",
       "number              object\n",
       "grid                 int64\n",
       "position            object\n",
       "positionText        object\n",
       "positionOrder        int64\n",
       "points             float64\n",
       "laps                 int64\n",
       "time                object\n",
       "milliseconds        object\n",
       "fastestLap          object\n",
       "rank                object\n",
       "fastestLapTime      object\n",
       "fastestLapSpeed     object\n",
       "statusId             int64\n",
       "dtype: object"
      ]
     },
     "execution_count": 11,
     "metadata": {},
     "output_type": "execute_result"
    }
   ],
   "source": [
    "# Write your own code here\n",
    "# Note: When you run \"results.dtypes\" you will get the type (int, float, object)\n",
    "# Object represents columns coded as strings.\n",
    "\n",
    "results = pd.read_csv(\"data_raw/results.csv\")\n",
    "column_types = results.dtypes\n",
    "# dypes function shows that the type of \"milliseconds\" is an object, while the codebook suggests that it is an integer. This is because that this colume has N/A entries, making the column consisting of both strings and integers.\n",
    "\n"
   ]
  },
  {
   "attachments": {},
   "cell_type": "markdown",
   "metadata": {},
   "source": [
    "<font size = \"5\">\n",
    "\n",
    "(c) Clean a column\n",
    "\n",
    "<font size = \"3\">\n",
    "\n",
    "- Import the dataset \"data_raw/results.csv\" to a new object \"results\"\n",
    "- Our goal is to replace any string values in the column \"milliseconds\" <br>\n",
    "to missing values (NaNs) and covert to numeric\n",
    "- To do so, go to Lecture 13 and follow the setups under the headings\n",
    "    - \"Extract list of non-numeric values\"\n",
    "    - \"Replace certain values\"\n",
    "    - \"Convert column to numeric\"\n",
    "\n",
    "HINT: substitute \"milliseconds\" instead of \"alt\", <br>\n",
    "and the dataset \"results\" instead of \"circuits\" \n"
   ]
  },
  {
   "cell_type": "code",
   "execution_count": 18,
   "metadata": {},
   "outputs": [
    {
     "name": "stdout",
     "output_type": "stream",
     "text": [
      "[]\n"
     ]
    },
    {
     "data": {
      "text/plain": [
       "resultId                  int64\n",
       "raceId                    int64\n",
       "driverId                  int64\n",
       "constructorId             int64\n",
       "number                   object\n",
       "grid                      int64\n",
       "position                 object\n",
       "positionText             object\n",
       "positionOrder             int64\n",
       "points                  float64\n",
       "laps                      int64\n",
       "time                     object\n",
       "milliseconds             object\n",
       "fastestLap               object\n",
       "rank                     object\n",
       "fastestLapTime           object\n",
       "fastestLapSpeed          object\n",
       "statusId                  int64\n",
       "milliseconds_numeric    float64\n",
       "dtype: object"
      ]
     },
     "execution_count": 18,
     "metadata": {},
     "output_type": "execute_result"
    }
   ],
   "source": [
    "# Write your own code here\n",
    "\n",
    "subset= results.query(\"milliseconds.str.isnumeric() == False\")\n",
    "list_unique = pd.unique(subset[\"milliseconds\"])\n",
    "print(list_unique)\n",
    "\n",
    "list_old = ['\\\\N']\n",
    "list_new = [np.nan]\n",
    "\n",
    "results[\"milliseconds\"] = results[\"milliseconds\"].replace(list_old, list_new)\n",
    "\n",
    "\n",
    "results[\"milliseconds_numeric\"] = pd.to_numeric(results[\"milliseconds\"])\n"
   ]
  },
  {
   "attachments": {},
   "cell_type": "markdown",
   "metadata": {},
   "source": [
    "<font size = \"5\">\n",
    "\n",
    "(d) Groupby + Aggregate\n",
    "\n",
    "<font size = \"3\">\n",
    "\n",
    "- Compute the mean and standard deviation of \"laps\", <br>\n",
    "grouping by \"constructorId\". Store the new dataset <br>\n",
    "as \"results_agg\"\n",
    "- Sort the aggregate dataset in decending <br>\n",
    "order of mean laps using \".sort_values()\"\n",
    "\n",
    "HINT: See Lecture 14 <br>\n"
   ]
  },
  {
   "cell_type": "code",
   "execution_count": 24,
   "metadata": {},
   "outputs": [
    {
     "data": {
      "text/html": [
       "<div>\n",
       "<style scoped>\n",
       "    .dataframe tbody tr th:only-of-type {\n",
       "        vertical-align: middle;\n",
       "    }\n",
       "\n",
       "    .dataframe tbody tr th {\n",
       "        vertical-align: top;\n",
       "    }\n",
       "\n",
       "    .dataframe thead th {\n",
       "        text-align: right;\n",
       "    }\n",
       "</style>\n",
       "<table border=\"1\" class=\"dataframe\">\n",
       "  <thead>\n",
       "    <tr style=\"text-align: right;\">\n",
       "      <th></th>\n",
       "      <th>mean_laps</th>\n",
       "      <th>sd_laps</th>\n",
       "    </tr>\n",
       "    <tr>\n",
       "      <th>constructorId</th>\n",
       "      <th></th>\n",
       "      <th></th>\n",
       "    </tr>\n",
       "  </thead>\n",
       "  <tbody>\n",
       "    <tr>\n",
       "      <th>149</th>\n",
       "      <td>198.500000</td>\n",
       "      <td>2.121320</td>\n",
       "    </tr>\n",
       "    <tr>\n",
       "      <th>112</th>\n",
       "      <td>197.000000</td>\n",
       "      <td>4.242641</td>\n",
       "    </tr>\n",
       "    <tr>\n",
       "      <th>109</th>\n",
       "      <td>184.285714</td>\n",
       "      <td>32.912583</td>\n",
       "    </tr>\n",
       "    <tr>\n",
       "      <th>119</th>\n",
       "      <td>178.666667</td>\n",
       "      <td>36.950417</td>\n",
       "    </tr>\n",
       "    <tr>\n",
       "      <th>108</th>\n",
       "      <td>163.764706</td>\n",
       "      <td>63.148168</td>\n",
       "    </tr>\n",
       "    <tr>\n",
       "      <th>...</th>\n",
       "      <td>...</td>\n",
       "      <td>...</td>\n",
       "    </tr>\n",
       "    <tr>\n",
       "      <th>93</th>\n",
       "      <td>0.000000</td>\n",
       "      <td>NaN</td>\n",
       "    </tr>\n",
       "    <tr>\n",
       "      <th>61</th>\n",
       "      <td>0.000000</td>\n",
       "      <td>0.000000</td>\n",
       "    </tr>\n",
       "    <tr>\n",
       "      <th>137</th>\n",
       "      <td>0.000000</td>\n",
       "      <td>NaN</td>\n",
       "    </tr>\n",
       "    <tr>\n",
       "      <th>91</th>\n",
       "      <td>0.000000</td>\n",
       "      <td>NaN</td>\n",
       "    </tr>\n",
       "    <tr>\n",
       "      <th>74</th>\n",
       "      <td>0.000000</td>\n",
       "      <td>0.000000</td>\n",
       "    </tr>\n",
       "  </tbody>\n",
       "</table>\n",
       "<p>210 rows × 2 columns</p>\n",
       "</div>"
      ],
      "text/plain": [
       "                mean_laps    sd_laps\n",
       "constructorId                       \n",
       "149            198.500000   2.121320\n",
       "112            197.000000   4.242641\n",
       "109            184.285714  32.912583\n",
       "119            178.666667  36.950417\n",
       "108            163.764706  63.148168\n",
       "...                   ...        ...\n",
       "93               0.000000        NaN\n",
       "61               0.000000   0.000000\n",
       "137              0.000000        NaN\n",
       "91               0.000000        NaN\n",
       "74               0.000000   0.000000\n",
       "\n",
       "[210 rows x 2 columns]"
      ]
     },
     "metadata": {},
     "output_type": "display_data"
    }
   ],
   "source": [
    "# Write your own code\n",
    "\n",
    "results_agg = (results.groupby(\"constructorId\")\n",
    "                        .agg(mean_laps = ('laps','mean'),\n",
    "                             sd_laps =('laps','std'))\n",
    "                        .sort_values(\"mean_laps\", ascending = False))\n",
    "\n",
    "display(results_agg)"
   ]
  },
  {
   "attachments": {},
   "cell_type": "markdown",
   "metadata": {},
   "source": [
    "<font size = \"5\" >\n",
    "\n",
    "(d) Query + Groupby + Aggregate\n",
    "\n",
    "<font size = \"3\">\n",
    "\n",
    "- Use \".query()\" to subset observations with <br>\n",
    "'race_id >= 200'\n",
    "- Compute the mean and standard deviation of \"laps\", <br>\n",
    "grouping by \"constructorId\". Store the new dataset <br>\n",
    "as \"results_agg\"\n",
    "\n",
    "Hint: See Lecture 11 (to refresh \".query()\") and <br>\n",
    "Lecture 14 for how to combine it with \".groupby()\""
   ]
  },
  {
   "cell_type": "code",
   "execution_count": 27,
   "metadata": {},
   "outputs": [],
   "source": [
    "# Write your own code\n",
    "\n",
    "results_agg = (results.query(\"raceId >= 200\")\n",
    "                       .groupby(\"constructorId\")\n",
    "                        .agg(mean_laps = ('laps','mean'),\n",
    "                             sd_laps =   ('laps','std')))"
   ]
  }
 ],
 "metadata": {
  "kernelspec": {
   "display_name": "base",
   "language": "python",
   "name": "python3"
  },
  "language_info": {
   "codemirror_mode": {
    "name": "ipython",
    "version": 3
   },
   "file_extension": ".py",
   "mimetype": "text/x-python",
   "name": "python",
   "nbconvert_exporter": "python",
   "pygments_lexer": "ipython3",
   "version": "3.9.13"
  },
  "orig_nbformat": 4,
  "vscode": {
   "interpreter": {
    "hash": "2a17bf52f5fe47edb78f356bdf195a0b9a3069cdca3b82a27da8f418098f6707"
   }
  }
 },
 "nbformat": 4,
 "nbformat_minor": 2
}
